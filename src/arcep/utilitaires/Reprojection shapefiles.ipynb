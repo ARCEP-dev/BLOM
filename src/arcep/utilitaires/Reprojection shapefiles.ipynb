{
 "cells": [
  {
   "cell_type": "markdown",
   "metadata": {},
   "source": [
    "# Mode d'emploi"
   ]
  },
  {
   "cell_type": "markdown",
   "metadata": {},
   "source": [
    "Ce script permet de changer le SCR d'un ou plusieurs shapefiles.\n",
    "\n",
    "0. Créer sur le serveur un répertoire input/ et un répertoire output/\n",
    "\n",
    "1. Les fichiers correspondant au(x) shapefile(s) d'entrée devront être placés dans une archive ZIP avant d'être uploadés sur le serveur Jupyter. Les fichiers shapefiles à convertir doivent toujours se trouver au 2e niveau de l'arborescence de l'archive :\n",
    "  * dir1/\n",
    "    * dir1/foo1.shp,\n",
    "    * dir1/foo1.prj,\n",
    "    * ...\n",
    "    * dir1/bar1.shp,\n",
    "    * ...\n",
    "  * dir2/\n",
    "    * ...\n",
    "\n",
    "**Exemple 1** : dans le cas d'un unique shapefile représentant les départements métropolitains français, on placera ces fichiers (.shp, .prj, .dbf, etc.) dans un répertoire departements_metropole/ et on compressera ce répertoire. Ainsi, lors de l'ouverture de l'archive ZIP avec un explorateur, on doit voir un répertoire racine puis, une fois à l'intérieur, les fichiers du shapefile.\n",
    "\n",
    "**Exemple 2** : dans le cas de shapefiles séparés représentant les routes de chaque département, ces fichiers étant rangés dans des répertoires routes/01/, routes/02/, etc., on sélectionnera l'ensemble des répertoires 01/, 02/, etc. pour les ajouter à l'archive. Ainsi, lors de l'ouverture de l'archive ZIP avec un explorateur, on doit voir à la racine 01/, 02/, etc., chacun contenant les fichiers .shp, .prj, .dbf, etc.\n",
    "\n",
    "2. Uploader l'archive ZIP dans le répertoire input/\n",
    "3. Indiquer le nom de l'archive et le code EPSG de destination\n",
    "4. Exécuter les cellules correspondant à l'outil de reprojection ci-après\n",
    "5. Télécharger l'archive ZIP depuis le répertoire output/\n",
    "\n",
    "**Remarque** : les répertoires du premier niveau de l'arborescence du ZIP sont décompressés un à un ; il est donc nécessaire de disposer d'un espace équivalent à deux fois la taille compressée de l'archive (entrée + sortie) plus deux fois la taille décompressée d'un répertoire du premier niveau (shapefiles originaux et reprojetés)."
   ]
  },
  {
   "cell_type": "markdown",
   "metadata": {},
   "source": [
    "# Outil de reprojection"
   ]
  },
  {
   "cell_type": "code",
   "execution_count": null,
   "metadata": {},
   "outputs": [],
   "source": [
    "'''\n",
    "Conversion de shapefiles vers un SCR spécifié (d'après son EPSG)\n",
    "'''\n",
    "import os\n",
    "import geopandas as gpd\n",
    "import pandas as pd\n",
    "import matplotlib.pyplot as plt"
   ]
  },
  {
   "cell_type": "code",
   "execution_count": null,
   "metadata": {},
   "outputs": [],
   "source": [
    "# Répertoire et nom de l'archive contenant les shapefiles d'entrée\n",
    "input_dir = \"input\"\n",
    "input_zip = \"IGN_routes\"\n",
    "\n",
    "input_zip_fpath = input_dir + \"/\" + input_zip + \".zip\"\n",
    "\n",
    "# EPSG de sortie\n",
    "# Lambert zone II = 7421 ou 27572\n",
    "# Lambert 93 = 2154\n",
    "epsg_out = 7421\n",
    "\n",
    "# Répertoire devant accueillir les shapefiles de sortie\n",
    "output_dir = \"output\"\n",
    "output_zip_fpath = \"../../\"+ output_dir + \"/\" + input_zip + \"_EPSG\" + str(epsg_out) + \".zip\""
   ]
  },
  {
   "cell_type": "code",
   "execution_count": null,
   "metadata": {},
   "outputs": [],
   "source": [
    "# Liste des répertoires contenus dans le zip\n",
    "list_dir_names = !unzip -Z1 $input_zip_fpath \"*/\"\n",
    "\n",
    "print(\"Contenu de l'archive :\")\n",
    "for dir_name in list_dir_names:\n",
    "    print(dir_name)\n",
    "    "
   ]
  },
  {
   "cell_type": "code",
   "execution_count": null,
   "metadata": {},
   "outputs": [],
   "source": [
    "os.makedirs(\"temp/in\")\n",
    "os.makedirs(\"temp/out\")\n",
    "\n",
    "for dir_name in list_dir_names:\n",
    "    print(\"Traitement des shapefiles du répertoire : \" + dir_name)\n",
    "    \n",
    "    # décompression du répertoire de l'archive dans temp/in\n",
    "    dir_path = \"temp/in/\" + dir_name\n",
    "    to_unzip = dir_name + \"*\"\n",
    "    !unzip -q $input_zip_fpath $to_unzip -d \"temp/in/\"\n",
    "    \n",
    "    # création du répertoire temporaire de sortie\n",
    "    shp_reprojete_dir = \"temp/out/\" + dir_name\n",
    "    os.makedirs(\"temp/out/\" + dir_name)\n",
    "    \n",
    "    # parcours des répertoires et réécriture\n",
    "    for input_file in os.listdir(\"temp/in/\" + dir_name):\n",
    "        if input_file.endswith(\".shp\") | input_file.endswith(\".SHP\"):\n",
    "            # lecture du shapefile\n",
    "            input_shp = gpd.read_file(\"temp/in/\" + dir_name + input_file)\n",
    "            print(\"SCR du shapefile \" + input_file + \" : \", input_shp.crs)\n",
    "            \n",
    "            # conversion\n",
    "            output_shp = input_shp.to_crs(epsg=epsg_out)\n",
    "            \n",
    "            # ecriture du nouveau shapefile\n",
    "            output_shp.to_file(\"temp/out/\" + dir_name + \"/\" + input_file)\n",
    "            \n",
    "    # recompression des fichiers de sortie dans l'archive résultat\n",
    "    # N.B. qu'il est nécessaire de se déplacer sinon l'archive contient l'arborescence temp/out/etc.\n",
    "    %cd -q temp/out/\n",
    "    print(\"Compression de \" + shp_reprojete_dir)\n",
    "    !zip -rq $output_zip_fpath $dir_name\n",
    "    %cd -q ../../\n",
    "    \n",
    "    # suppression des fichiers d'entrée et de sortie\n",
    "    !rm -r $dir_path\n",
    "    !rm -r $shp_reprojete_dir\n",
    "\n",
    "# Supprimer les fichiers temporaires\n",
    "!rm -r \"temp/in\"\n",
    "!rm -r \"temp/out\""
   ]
  },
  {
   "cell_type": "markdown",
   "metadata": {},
   "source": [
    "# Annexe : fonctions utiles"
   ]
  },
  {
   "cell_type": "code",
   "execution_count": null,
   "metadata": {},
   "outputs": [],
   "source": [
    "# Supprimer les fichiers temporaires\n",
    "!rm -r \"temp/in\"\n",
    "!rm -r \"temp/out\""
   ]
  },
  {
   "cell_type": "code",
   "execution_count": null,
   "metadata": {},
   "outputs": [],
   "source": [
    "# Compression d'un répertoire\n",
    "src = \"input/dossier_a_archiver\"\n",
    "archive_cbl = \"output/archive.zip\"\n",
    "\n",
    "!zip -r $archive_cbl $src"
   ]
  },
  {
   "cell_type": "code",
   "execution_count": null,
   "metadata": {},
   "outputs": [],
   "source": [
    "# Décompression d'un répertoire et de tout ce qu'il contient\n",
    "archive_src = \"input/archive.zip\"\n",
    "cbl = \"output/dossier_decompresse\"\n",
    "\n",
    "!unzip $archive_src -d $cbl"
   ]
  }
 ],
 "metadata": {
  "kernelspec": {
   "display_name": "Python 3",
   "language": "python",
   "name": "python3"
  },
  "language_info": {
   "codemirror_mode": {
    "name": "ipython",
    "version": 3
   },
   "file_extension": ".py",
   "mimetype": "text/x-python",
   "name": "python",
   "nbconvert_exporter": "python",
   "pygments_lexer": "ipython3",
   "version": "3.7.4"
  }
 },
 "nbformat": 4,
 "nbformat_minor": 2
}
