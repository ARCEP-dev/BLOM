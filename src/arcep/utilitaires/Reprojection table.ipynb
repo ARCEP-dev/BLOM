{
 "cells": [
  {
   "cell_type": "markdown",
   "metadata": {},
   "source": [
    "# Mode d'emploi\n",
    "Ce script permet de changer le SCR de points décrits par leurs coordonnées X, Y dans un fichier texte délimité. Le code EPSG de la projection des données d'entrée doit être connu.\n",
    "\n",
    "0. Créer sur le serveur un répertoire input/ et un répertoire output/\n",
    "\n",
    "1. Il est possible de reprojeter un unique fichier ou bien une série de fichiers placés dans une archive ZIP. Uploader le fichier ou l'archive dans le répertoire input/\n",
    "\n",
    "2. Exécuter les cellules correspondant à la section \"Eléments communs\"\n",
    "\n",
    "**Pour reprojeter un unique fichier** : se reporter à la section \"reprojeter un unique tableau\"\n",
    "3. Dans le champ \"Paramètres\", indiquer le nom du fichier, le code de l'EPSG source et le code EPSG de destination\n",
    "4. Exécuter ensuite les cellules correspondant à cette section\n",
    "5. Télécharger le fichier reprojeté depuis le répertoire output/\n",
    "\n",
    "**Pour reprojeter tous les fichiers placés dans une archive** : se reporter à la section \"reprojeter plusieurs tableaux au sein d'une archive\"\n",
    "3. Dans le champ \"Paramètres\", indiquer le nom de l'archive, le code de l'EPSG source et le code EPSG de destination\n",
    "4. Exécuter ensuite les cellules correspondant à cette section\n",
    "5. Télécharger l'archive ZIP depuis le répertoire output/\n"
   ]
  },
  {
   "cell_type": "markdown",
   "metadata": {},
   "source": [
    "# Outil de reprojection\n",
    "## Eléments communs"
   ]
  },
  {
   "cell_type": "code",
   "execution_count": null,
   "metadata": {},
   "outputs": [],
   "source": [
    "'''\n",
    "Conversion des colonnes X et Y d'un tableau vers un SCR spécifié (d'après son EPSG)\n",
    "'''\n",
    "import os\n",
    "import geopandas as gpd\n",
    "import pandas as pd\n",
    "import shapely.geometry as sg\n",
    "import matplotlib.pyplot as plt"
   ]
  },
  {
   "cell_type": "code",
   "execution_count": null,
   "metadata": {},
   "outputs": [],
   "source": [
    "# Fonction de reprojection d'un tableau contenant des colonnes X et Y\n",
    "def reproj_tbl(df, epsg_src, epsg_cbl):\n",
    "    # Les colonnes sont enregistrées pour permettre leur restitution dans le même ordre\n",
    "    cols = df.columns.tolist()\n",
    "    \n",
    "    gdf = gpd.GeoDataFrame(df.drop(['X', 'Y'], axis=1),\n",
    "                      crs={'init': 'epsg:'+str(epsg_src)},\n",
    "                      geometry=[sg.Point(xy) for xy in zip(df.X, df.Y)])\n",
    "    \n",
    "    # Reprojection\n",
    "    reproj_gdf = gdf.to_crs(epsg=str(epsg_cbl))\n",
    "    \n",
    "    # Reconversion en tableau (DataFrame) avec des colonnes X et Y\n",
    "    out_df = pd.DataFrame(reproj_gdf.drop([\"geometry\"], axis=1))\n",
    "    out_df[\"X\"] = reproj_gdf.geometry.x\n",
    "    out_df[\"Y\"] = reproj_gdf.geometry.y\n",
    "    \n",
    "    return(out_df[cols])\n",
    "\n",
    "# Fonction de reprojection d'un fichier délimité contenant des colonnes X et Y\n",
    "def reproj_delim(input_tbl_fpath, output_tbl_path, tbl_delim, epsg_src, epsg_cbl):\n",
    "    # Lecture des données d'entrée et conversion en GeoDataFrame\n",
    "    df = pd.read_csv(input_tbl_fpath, delimiter=tbl_delim)\n",
    "    \n",
    "    # Calcul du tableau reprojeté et écriture du fichier délimité\n",
    "    reproj_tbl(df, epsg_src, epsg_cbl).to_csv(output_tbl_fpath, sep=tbl_delim, ,index=False)"
   ]
  },
  {
   "cell_type": "markdown",
   "metadata": {},
   "source": [
    "## Reprojeter un unique tableau\n",
    "\n",
    "Le tableau à reprojeter doit :\n",
    "* posséder un en-tête (cohérent avec le contenu) ;\n",
    "* posséder une colonne X et une colonne Y.\n"
   ]
  },
  {
   "cell_type": "code",
   "execution_count": null,
   "metadata": {},
   "outputs": [],
   "source": [
    "# Paramètres\n",
    "input_dir = \"input\"\n",
    "input_tbl_name = \"NRA_01\"\n",
    "tbl_ext = \".csv\"\n",
    "tbl_delim = \";\"\n",
    "\n",
    "epsg_src=7421\n",
    "epsg_cbl=2154\n",
    "\n",
    "output_dir = \"output\"\n",
    "output_tbl_name = input_tbl_name"
   ]
  },
  {
   "cell_type": "code",
   "execution_count": null,
   "metadata": {},
   "outputs": [],
   "source": [
    "# Calcul du chemin des fichiers d'entrée et de sortie\n",
    "input_tbl_fpath = input_dir + \"/\" + input_tbl_name + tbl_ext\n",
    "output_tbl_fpath = output_dir + \"/\" + output_tbl_name + tbl_ext"
   ]
  },
  {
   "cell_type": "code",
   "execution_count": null,
   "metadata": {},
   "outputs": [],
   "source": [
    "reproj_delim(input_tbl_fpath, output_tbl_fpath, tbl_delim, epsg_src, epsg_cbl)"
   ]
  },
  {
   "cell_type": "markdown",
   "metadata": {},
   "source": [
    "## Reprojeter plusieurs tableaux au sein d'une archive\n",
    "Les tableaux doivent être dans une archive ZIP, au 2e niveau d'arborescence. Par exemple :\n",
    "* dir1/\n",
    "  * dir1/foo1.csv,\n",
    "  * dir1/bar1.csv ;\n",
    "* dir2/\n",
    "  * dir2/foo2.csv,\n",
    "  * dir2/bar2.csv.\n",
    "\n",
    "D'autre part tous les tableaux contenus au 2e niveau d'arborescence doivent :\n",
    "* posséder un en-tête (cohérent avec le contenu) ;\n",
    "* posséder une colonne X et une colonne Y ;\n",
    "* exprimées dans le même système de coordonnées de référence (CRS).\n",
    "\n",
    "**Remarque** : dans ce cas, les répertoires du premier niveau de l'arborescence du ZIP sont décompressés un à un ; il est donc nécessaire de disposer sur la machine d'un espace de stockage équivalent à deux fois la taille compressée de l'archive (entrée + sortie) plus deux fois la taille décompressée d'un répertoire du premier niveau (tableaux originaux et reprojetés)."
   ]
  },
  {
   "cell_type": "code",
   "execution_count": null,
   "metadata": {},
   "outputs": [],
   "source": [
    "# Paramètres\n",
    "input_dir = \"input\"\n",
    "input_zip_name = \"NRA\" # sans l'extension .zip\n",
    "tbl_ext = \".csv\"\n",
    "tbl_delim = \";\"\n",
    "\n",
    "epsg_src=7421\n",
    "epsg_cbl=2154\n",
    "\n",
    "output_dir = \"output\"\n",
    "output_zip_name = input_zip_name + \"_EPSG\" + str(epsg_cbl)"
   ]
  },
  {
   "cell_type": "code",
   "execution_count": null,
   "metadata": {},
   "outputs": [],
   "source": [
    "# Calcul du chemin des fichiers d'entrée et de sortie\n",
    "input_zip_fpath = input_dir + \"/\" + input_zip_name + \".zip\"\n",
    "output_zip_fpath = \"../../\" + output_dir + \"/\" + output_zip_name + \".zip\""
   ]
  },
  {
   "cell_type": "code",
   "execution_count": null,
   "metadata": {},
   "outputs": [],
   "source": [
    "# Liste des répertoires contenus dans le zip\n",
    "list_dir_names = !unzip -Z1 $input_zip_fpath \"*/\"\n",
    "\n",
    "print(\"Contenu de l'archive :\")\n",
    "for dir_name in list_dir_names:\n",
    "    print(dir_name)"
   ]
  },
  {
   "cell_type": "code",
   "execution_count": null,
   "metadata": {},
   "outputs": [],
   "source": [
    "os.makedirs(\"temp/in\")\n",
    "os.makedirs(\"temp/out\")\n",
    "\n",
    "for dir_name in list_dir_names:\n",
    "    print(\"Traitement des shapefiles du répertoire : \" + dir_name)\n",
    "    \n",
    "    # décompression du répertoire de l'archive dans temp/in\n",
    "    dir_path = \"temp/in/\" + dir_name\n",
    "    to_unzip = dir_name + \"*\"\n",
    "    !unzip -q $input_zip_fpath $to_unzip -d \"temp/in/\"\n",
    "    \n",
    "    # création du répertoire temporaire de sortie\n",
    "    dir_reprojete = \"temp/out/\" + dir_name\n",
    "    os.makedirs(\"temp/out/\" + dir_name)\n",
    "    \n",
    "    # parcours des répertoires et réécriture\n",
    "    for input_file in os.listdir(\"temp/in/\" + dir_name):\n",
    "        if input_file.endswith(tbl_ext.lower()) | input_file.endswith(tbl_ext.upper()):\n",
    "            \n",
    "            input_tbl_fpath = \"temp/in/\" + dir_name + input_file\n",
    "            output_tbl_fpath = \"temp/out/\" + dir_name + input_file\n",
    "            \n",
    "            # Reprojection et écriture du fichier délimité reprojeté\n",
    "            reproj_delim(input_tbl_fpath, output_tbl_fpath, tbl_delim, epsg_src, epsg_cbl)\n",
    "        \n",
    "    # recompression des fichiers de sortie dans l'archive résultat\n",
    "    # N.B. qu'il est nécessaire de se déplacer sinon l'archive contient l'arborescence temp/out/etc.\n",
    "    %cd -q temp/out/\n",
    "    print(\"Compression de \" + dir_reprojete)\n",
    "    !zip -rq $output_zip_fpath $dir_name\n",
    "    %cd -q ../../\n",
    "    \n",
    "    # suppression des fichiers d'entrée et de sortie\n",
    "    !rm -r $dir_path\n",
    "    !rm -r $dir_reprojete\n",
    "    \n",
    "# Supprimer les fichiers temporaires\n",
    "!rm -r \"temp/in\"\n",
    "!rm -r \"temp/out\""
   ]
  },
  {
   "cell_type": "markdown",
   "metadata": {},
   "source": [
    "# Utilitaires\n",
    "## Tracer les points"
   ]
  },
  {
   "cell_type": "code",
   "execution_count": null,
   "metadata": {},
   "outputs": [],
   "source": [
    "%matplotlib inline\n",
    "%pylab inline\n",
    "df.plot.scatter(x='X',y='Y')"
   ]
  },
  {
   "cell_type": "code",
   "execution_count": null,
   "metadata": {},
   "outputs": [],
   "source": [
    "out_df.plot.scatter(x='X',y='Y')"
   ]
  },
  {
   "cell_type": "markdown",
   "metadata": {},
   "source": [
    "## Supprimer les fichiers temporaires\n",
    "(en cas d'erreur lors de l'exécution...)"
   ]
  },
  {
   "cell_type": "code",
   "execution_count": null,
   "metadata": {},
   "outputs": [],
   "source": [
    "# Supprimer les fichiers temporaires\n",
    "!rm -r \"temp/in\"\n",
    "!rm -r \"temp/out\""
   ]
  }
 ],
 "metadata": {
  "kernelspec": {
   "display_name": "Python 3",
   "language": "python",
   "name": "python3"
  },
  "language_info": {
   "codemirror_mode": {
    "name": "ipython",
    "version": 3
   },
   "file_extension": ".py",
   "mimetype": "text/x-python",
   "name": "python",
   "nbconvert_exporter": "python",
   "pygments_lexer": "ipython3",
   "version": "3.7.4"
  }
 },
 "nbformat": 4,
 "nbformat_minor": 2
}
